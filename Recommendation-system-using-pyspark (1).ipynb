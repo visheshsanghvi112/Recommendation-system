{
  "nbformat": 4,
  "nbformat_minor": 0,
  "metadata": {
    "colab": {
      "provenance": []
    },
    "kernelspec": {
      "name": "python3",
      "display_name": "Python 3"
    },
    "language_info": {
      "name": "python"
    }
  },
  "cells": [
    {
      "cell_type": "code",
      "execution_count": null,
      "metadata": {
        "colab": {
          "base_uri": "https://localhost:8080/"
        },
        "id": "ZGic0Gl6sWfd",
        "outputId": "f7e00be6-8dc1-4b75-e7c3-886100248a52"
      },
      "outputs": [
        {
          "output_type": "stream",
          "name": "stdout",
          "text": [
            "Collecting pyspark\n",
            "  Downloading pyspark-3.5.2.tar.gz (317.3 MB)\n",
            "\u001b[2K     \u001b[90m━━━━━━━━━━━━━━━━━━━━━━━━━━━━━━━━━━━━━━━━\u001b[0m \u001b[32m317.3/317.3 MB\u001b[0m \u001b[31m5.0 MB/s\u001b[0m eta \u001b[36m0:00:00\u001b[0m\n",
            "\u001b[?25h  Preparing metadata (setup.py) ... \u001b[?25l\u001b[?25hdone\n",
            "Requirement already satisfied: py4j==0.10.9.7 in /usr/local/lib/python3.10/dist-packages (from pyspark) (0.10.9.7)\n",
            "Building wheels for collected packages: pyspark\n",
            "  Building wheel for pyspark (setup.py) ... \u001b[?25l\u001b[?25hdone\n",
            "  Created wheel for pyspark: filename=pyspark-3.5.2-py2.py3-none-any.whl size=317812365 sha256=0b9adbd6ebc477da7aed570a55edf0911fce5146bcf7ee51b4a25d6fd4ff73ac\n",
            "  Stored in directory: /root/.cache/pip/wheels/34/34/bd/03944534c44b677cd5859f248090daa9fb27b3c8f8e5f49574\n",
            "Successfully built pyspark\n",
            "Installing collected packages: pyspark\n",
            "Successfully installed pyspark-3.5.2\n"
          ]
        }
      ],
      "source": [
        "pip install pyspark"
      ]
    },
    {
      "cell_type": "code",
      "source": [
        "import pandas as pd\n",
        "from pyspark.sql import SparkSession\n",
        "spark = SparkSession.builder.master(\"local\").appName(\"movie_recommendation\").config(\"spark.some.config.option\",\"some-value\").getOrCreate()"
      ],
      "metadata": {
        "id": "D7prz5rWtVom"
      },
      "execution_count": null,
      "outputs": []
    },
    {
      "cell_type": "code",
      "source": [
        "rating = spark.read.format(\"csv\").option(\"header\",\"true\").option(\"inferSchema\",\"true\").load(\"/content/ratings_small.csv\")\n",
        "rating = rating.drop(\"timestamp\")\n",
        "\n",
        "movies = spark.read.format(\"csv\").option(\"header\",\"true\").option(\"inferSchema\",\"true\").load(\"/content/movies_metadata.csv\")\n",
        "movie_data = rating.join(movies,on= rating.movieId == movies.id)\n",
        "columns = len(movie_data.columns)\n",
        "Rows = movie_data.count()\n",
        "print(\"Number of Columns: {}\\nNumber of Rows: {}\".format(columns,Rows))\n",
        "movie_data.columns"
      ],
      "metadata": {
        "colab": {
          "base_uri": "https://localhost:8080/"
        },
        "id": "2ElwxKUfuB8d",
        "outputId": "04cb4b04-a78b-45e1-aef7-a1ea1106ce60"
      },
      "execution_count": null,
      "outputs": [
        {
          "output_type": "stream",
          "name": "stdout",
          "text": [
            "Number of Columns: 27\n",
            "Number of Rows: 44925\n"
          ]
        },
        {
          "output_type": "execute_result",
          "data": {
            "text/plain": [
              "['userId',\n",
              " 'movieId',\n",
              " 'rating',\n",
              " 'adult',\n",
              " 'belongs_to_collection',\n",
              " 'budget',\n",
              " 'genres',\n",
              " 'homepage',\n",
              " 'id',\n",
              " 'imdb_id',\n",
              " 'original_language',\n",
              " 'original_title',\n",
              " 'overview',\n",
              " 'popularity',\n",
              " 'poster_path',\n",
              " 'production_companies',\n",
              " 'production_countries',\n",
              " 'release_date',\n",
              " 'revenue',\n",
              " 'runtime',\n",
              " 'spoken_languages',\n",
              " 'status',\n",
              " 'tagline',\n",
              " 'title',\n",
              " 'video',\n",
              " 'vote_average',\n",
              " 'vote_count']"
            ]
          },
          "metadata": {},
          "execution_count": 7
        }
      ]
    },
    {
      "cell_type": "code",
      "source": [
        "import numpy as np\n",
        "from pyspark.sql.functions import when\n",
        "\n",
        "movie_data = movie_data.withColumn(\"userId\",when(movie_data.userId==0,np.nan).otherwise(movie_data.userId))\n",
        "movie_data = movie_data.withColumn(\"id\",when(movie_data.id==0,np.nan).otherwise(movie_data.id))\n",
        "movie_data = movie_data.withColumn(\"rating\",when(movie_data.rating==0,np.nan).otherwise(movie_data.rating))\n",
        "movie_data = movie_data.withColumn(\"title\",when(movie_data.title==0,np.nan).otherwise(movie_data.title))\n",
        "from pyspark.sql.types import IntegerType\n",
        "movie_data = movie_data.withColumn(\"budget\",movie_data[\"budget\"].cast(IntegerType()))\n",
        "movie_data.show()"
      ],
      "metadata": {
        "colab": {
          "base_uri": "https://localhost:8080/"
        },
        "id": "b-j1lub9t6tN",
        "outputId": "413caf22-0e73-4a97-fa9d-191049ad3399"
      },
      "execution_count": null,
      "outputs": [
        {
          "output_type": "stream",
          "name": "stdout",
          "text": [
            "+------+-------+------+-----+---------------------+--------+--------------------+--------------------+----+---------+-----------------+----------------+--------------------+----------+--------------------+--------------------+--------------------+------------+---------+-------+--------------------+--------+--------------------+----------------+-----+------------+----------+\n",
            "|userId|movieId|rating|adult|belongs_to_collection|  budget|              genres|            homepage|  id|  imdb_id|original_language|  original_title|            overview|popularity|         poster_path|production_companies|production_countries|release_date|  revenue|runtime|    spoken_languages|  status|             tagline|           title|video|vote_average|vote_count|\n",
            "+------+-------+------+-----+---------------------+--------+--------------------+--------------------+----+---------+-----------------+----------------+--------------------+----------+--------------------+--------------------+--------------------+------------+---------+-------+--------------------+--------+--------------------+----------------+-----+------------+----------+\n",
            "| 647.0|    949|   4.0|False|                 NULL|60000000|[{'id': 28, 'name...|                NULL| 949|tt0113277|               en|            Heat|Obsessive master ...| 17.924927|/zMyfPUelumio3tiD...|[{'name': 'Regenc...|[{'iso_3166_1': '...|  1995-12-15|187436818|  170.0|[{'iso_639_1': 'e...|Released|A Los Angeles Cri...|            Heat|False|         7.7|      1886|\n",
            "| 564.0|    949|   3.0|False|                 NULL|60000000|[{'id': 28, 'name...|                NULL| 949|tt0113277|               en|            Heat|Obsessive master ...| 17.924927|/zMyfPUelumio3tiD...|[{'name': 'Regenc...|[{'iso_3166_1': '...|  1995-12-15|187436818|  170.0|[{'iso_639_1': 'e...|Released|A Los Angeles Cri...|            Heat|False|         7.7|      1886|\n",
            "| 558.0|    949|   4.0|False|                 NULL|60000000|[{'id': 28, 'name...|                NULL| 949|tt0113277|               en|            Heat|Obsessive master ...| 17.924927|/zMyfPUelumio3tiD...|[{'name': 'Regenc...|[{'iso_3166_1': '...|  1995-12-15|187436818|  170.0|[{'iso_639_1': 'e...|Released|A Los Angeles Cri...|            Heat|False|         7.7|      1886|\n",
            "| 547.0|    949|   4.0|False|                 NULL|60000000|[{'id': 28, 'name...|                NULL| 949|tt0113277|               en|            Heat|Obsessive master ...| 17.924927|/zMyfPUelumio3tiD...|[{'name': 'Regenc...|[{'iso_3166_1': '...|  1995-12-15|187436818|  170.0|[{'iso_639_1': 'e...|Released|A Los Angeles Cri...|            Heat|False|         7.7|      1886|\n",
            "| 537.0|    949|   3.0|False|                 NULL|60000000|[{'id': 28, 'name...|                NULL| 949|tt0113277|               en|            Heat|Obsessive master ...| 17.924927|/zMyfPUelumio3tiD...|[{'name': 'Regenc...|[{'iso_3166_1': '...|  1995-12-15|187436818|  170.0|[{'iso_639_1': 'e...|Released|A Los Angeles Cri...|            Heat|False|         7.7|      1886|\n",
            "| 509.0|    949|   2.0|False|                 NULL|60000000|[{'id': 28, 'name...|                NULL| 949|tt0113277|               en|            Heat|Obsessive master ...| 17.924927|/zMyfPUelumio3tiD...|[{'name': 'Regenc...|[{'iso_3166_1': '...|  1995-12-15|187436818|  170.0|[{'iso_639_1': 'e...|Released|A Los Angeles Cri...|            Heat|False|         7.7|      1886|\n",
            "| 505.0|    949|   3.5|False|                 NULL|60000000|[{'id': 28, 'name...|                NULL| 949|tt0113277|               en|            Heat|Obsessive master ...| 17.924927|/zMyfPUelumio3tiD...|[{'name': 'Regenc...|[{'iso_3166_1': '...|  1995-12-15|187436818|  170.0|[{'iso_639_1': 'e...|Released|A Los Angeles Cri...|            Heat|False|         7.7|      1886|\n",
            "| 452.0|    949|   4.5|False|                 NULL|60000000|[{'id': 28, 'name...|                NULL| 949|tt0113277|               en|            Heat|Obsessive master ...| 17.924927|/zMyfPUelumio3tiD...|[{'name': 'Regenc...|[{'iso_3166_1': '...|  1995-12-15|187436818|  170.0|[{'iso_639_1': 'e...|Released|A Los Angeles Cri...|            Heat|False|         7.7|      1886|\n",
            "| 387.0|    949|   5.0|False|                 NULL|60000000|[{'id': 28, 'name...|                NULL| 949|tt0113277|               en|            Heat|Obsessive master ...| 17.924927|/zMyfPUelumio3tiD...|[{'name': 'Regenc...|[{'iso_3166_1': '...|  1995-12-15|187436818|  170.0|[{'iso_639_1': 'e...|Released|A Los Angeles Cri...|            Heat|False|         7.7|      1886|\n",
            "| 363.0|    949|   4.0|False|                 NULL|60000000|[{'id': 28, 'name...|                NULL| 949|tt0113277|               en|            Heat|Obsessive master ...| 17.924927|/zMyfPUelumio3tiD...|[{'name': 'Regenc...|[{'iso_3166_1': '...|  1995-12-15|187436818|  170.0|[{'iso_639_1': 'e...|Released|A Los Angeles Cri...|            Heat|False|         7.7|      1886|\n",
            "| 311.0|    949|   3.0|False|                 NULL|60000000|[{'id': 28, 'name...|                NULL| 949|tt0113277|               en|            Heat|Obsessive master ...| 17.924927|/zMyfPUelumio3tiD...|[{'name': 'Regenc...|[{'iso_3166_1': '...|  1995-12-15|187436818|  170.0|[{'iso_639_1': 'e...|Released|A Los Angeles Cri...|            Heat|False|         7.7|      1886|\n",
            "| 263.0|    949|   3.0|False|                 NULL|60000000|[{'id': 28, 'name...|                NULL| 949|tt0113277|               en|            Heat|Obsessive master ...| 17.924927|/zMyfPUelumio3tiD...|[{'name': 'Regenc...|[{'iso_3166_1': '...|  1995-12-15|187436818|  170.0|[{'iso_639_1': 'e...|Released|A Los Angeles Cri...|            Heat|False|         7.7|      1886|\n",
            "| 242.0|    949|   5.0|False|                 NULL|60000000|[{'id': 28, 'name...|                NULL| 949|tt0113277|               en|            Heat|Obsessive master ...| 17.924927|/zMyfPUelumio3tiD...|[{'name': 'Regenc...|[{'iso_3166_1': '...|  1995-12-15|187436818|  170.0|[{'iso_639_1': 'e...|Released|A Los Angeles Cri...|            Heat|False|         7.7|      1886|\n",
            "| 232.0|    949|   2.0|False|                 NULL|60000000|[{'id': 28, 'name...|                NULL| 949|tt0113277|               en|            Heat|Obsessive master ...| 17.924927|/zMyfPUelumio3tiD...|[{'name': 'Regenc...|[{'iso_3166_1': '...|  1995-12-15|187436818|  170.0|[{'iso_639_1': 'e...|Released|A Los Angeles Cri...|            Heat|False|         7.7|      1886|\n",
            "| 102.0|    949|   4.0|False|                 NULL|60000000|[{'id': 28, 'name...|                NULL| 949|tt0113277|               en|            Heat|Obsessive master ...| 17.924927|/zMyfPUelumio3tiD...|[{'name': 'Regenc...|[{'iso_3166_1': '...|  1995-12-15|187436818|  170.0|[{'iso_639_1': 'e...|Released|A Los Angeles Cri...|            Heat|False|         7.7|      1886|\n",
            "|  23.0|    949|   3.5|False|                 NULL|60000000|[{'id': 28, 'name...|                NULL| 949|tt0113277|               en|            Heat|Obsessive master ...| 17.924927|/zMyfPUelumio3tiD...|[{'name': 'Regenc...|[{'iso_3166_1': '...|  1995-12-15|187436818|  170.0|[{'iso_639_1': 'e...|Released|A Los Angeles Cri...|            Heat|False|         7.7|      1886|\n",
            "| 390.0|    710|   2.0|False| {'id': 645, 'name...|58000000|[{'id': 12, 'name...|http://www.mgm.co...| 710|tt0113189|               en|       GoldenEye|James Bond must u...| 14.686036|/5c0ovjT41KnYIHYu...|[{'name': 'United...|[{'iso_3166_1': '...|  1995-11-16|352194034|  130.0|[{'iso_639_1': 'e...|Released|No limits. No fea...|       GoldenEye|False|         6.6|      1194|\n",
            "| 358.0|    710|   1.0|False| {'id': 645, 'name...|58000000|[{'id': 12, 'name...|http://www.mgm.co...| 710|tt0113189|               en|       GoldenEye|James Bond must u...| 14.686036|/5c0ovjT41KnYIHYu...|[{'name': 'United...|[{'iso_3166_1': '...|  1995-11-16|352194034|  130.0|[{'iso_639_1': 'e...|Released|No limits. No fea...|       GoldenEye|False|         6.6|      1194|\n",
            "| 665.0|   1408|   3.0|False|                 NULL|98000000|[{'id': 28, 'name...|                NULL|1408|tt0112760|               en|Cutthroat Island|Morgan Adams and ...|  7.284477|/odM9973kIv9hcjfH...|[{'name': 'Le Stu...|[{'iso_3166_1': '...|  1995-12-22| 10017322|  119.0|[{'iso_639_1': 'e...|Released|The Course Has Be...|Cutthroat Island|False|         5.7|       137|\n",
            "| 658.0|   1408|   5.0|False|                 NULL|98000000|[{'id': 28, 'name...|                NULL|1408|tt0112760|               en|Cutthroat Island|Morgan Adams and ...|  7.284477|/odM9973kIv9hcjfH...|[{'name': 'Le Stu...|[{'iso_3166_1': '...|  1995-12-22| 10017322|  119.0|[{'iso_639_1': 'e...|Released|The Course Has Be...|Cutthroat Island|False|         5.7|       137|\n",
            "+------+-------+------+-----+---------------------+--------+--------------------+--------------------+----+---------+-----------------+----------------+--------------------+----------+--------------------+--------------------+--------------------+------------+---------+-------+--------------------+--------+--------------------+----------------+-----+------------+----------+\n",
            "only showing top 20 rows\n",
            "\n"
          ]
        }
      ]
    },
    {
      "cell_type": "code",
      "source": [
        "from pyspark.ml.evaluation import RegressionEvaluator\n",
        "from pyspark.ml.recommendation import ALS\n",
        "from pyspark.sql.types import IntegerType\n",
        "\n",
        "# Cast the 'id' column to IntegerType\n",
        "movie_data = movie_data.withColumn(\"id\",movie_data[\"id\"].cast(IntegerType()))\n",
        "\n",
        "(training,test) = movie_data.randomSplit([0.8,0.2])\n",
        "\n",
        "als = ALS(maxIter=5,regParam=0.09,rank=25,userCol=\"userId\",itemCol=\"id\",ratingCol=\"rating\",coldStartStrategy=\"drop\",nonnegative=True)\n",
        "model = als.fit(training)"
      ],
      "metadata": {
        "id": "A1mU8YW40b45"
      },
      "execution_count": null,
      "outputs": []
    },
    {
      "cell_type": "code",
      "source": [
        "evaluator=RegressionEvaluator(metricName=\"rmse\",labelCol=\"rating\",predictionCol=\"prediction\")\n",
        "predictions=model.transform(test)\n",
        "rmse=evaluator.evaluate(predictions)\n",
        "print(\"RMSE=\"+str(rmse))\n",
        "predictions.show()"
      ],
      "metadata": {
        "colab": {
          "base_uri": "https://localhost:8080/"
        },
        "id": "CE_zd2Is1L05",
        "outputId": "89b1063a-518c-4bb9-a590-ff7d7bcc566e"
      },
      "execution_count": null,
      "outputs": [
        {
          "output_type": "stream",
          "name": "stdout",
          "text": [
            "RMSE=0.9268909817870974\n",
            "+------+-------+------+-----+---------------------+---------+--------------------+--------------------+----+---------+-----------------+--------------------+--------------------+--------------------+--------------------+--------------------+--------------------+--------------------+--------------------+----------+--------------------+--------+--------------------+--------------------+------------+--------------------+----------+----------+\n",
            "|userId|movieId|rating|adult|belongs_to_collection|   budget|              genres|            homepage|  id|  imdb_id|original_language|      original_title|            overview|          popularity|         poster_path|production_companies|production_countries|        release_date|             revenue|   runtime|    spoken_languages|  status|             tagline|               title|       video|        vote_average|vote_count|prediction|\n",
            "+------+-------+------+-----+---------------------+---------+--------------------+--------------------+----+---------+-----------------+--------------------+--------------------+--------------------+--------------------+--------------------+--------------------+--------------------+--------------------+----------+--------------------+--------+--------------------+--------------------+------------+--------------------+----------+----------+\n",
            "|   1.0|   2193|   2.0|False|                 NULL|        0|[{'id': 35, 'name...|http://www.crowni...|2193|tt0085980|               en|            My Tutor|High school senio...|             4.67546|/2b7rg7olnmtSBta2...|[{'name': 'Crown ...|[{'iso_3166_1': '...|          1983-03-04|            22587000|      97.0|[{'iso_639_1': 'e...|Released|School's out...Bu...|            My Tutor|       False|                 5.8|        17| 2.2058947|\n",
            "|   2.0|    150|   5.0|False| {'id': 93295, 'na...| 12000000|[{'id': 53, 'name...|                NULL| 150|tt0083511|               en|             48 Hrs.|A hard-nosed cop ...|           15.297121|/rq8NvwC5tC2E8SNU...|[{'name': 'Paramo...|[{'iso_3166_1': '...|          1982-12-07|            78868508|      96.0|[{'iso_639_1': 'e...|Released|One Cop. One Con....|             48 Hrs.|       False|                 6.5|       364| 3.3615553|\n",
            "|   2.0|    235|   3.0|False|                 NULL|  8000000|[{'id': 80, 'name...|                NULL| 235|tt0092005|               en|         Stand by Me|After the death o...|           15.206957|/kedC0y75jdzByjuZ...|[{'name': 'Columb...|[{'iso_3166_1': '...|          1986-08-22|            52287414|      89.0|[{'iso_639_1': 'e...|Released|For some, it's th...|         Stand by Me|       False|                 7.8|      1568| 2.9342074|\n",
            "|   2.0|    292|   3.0|False|                 NULL|  3000000|[{'id': 35, 'name...|http://www.chappe...| 292|tt0425598|               en|Dave Chappelle's ...|The American come...|            2.092791|/hemHNgWePU3sYwI9...|[{'name': 'Yari F...|[{'iso_3166_1': '...|          2005-09-12|            11718595|     100.0|[{'iso_639_1': 'e...|Released|                NULL|Dave Chappelle's ...|       False|                 6.5|        29|  3.597422|\n",
            "|   2.0|    300|   3.0|False|                 NULL|  6000000|[{'id': 35, 'name...|http://www.lascie...| 300|tt0354899|               fr|La science des rêves|A man entranced b...|           10.603991|/8juTRqn5o43mnlVa...|[{'name': 'Gaumon...|[{'iso_3166_1': '...|          2006-02-11|             9524340|     105.0|[{'iso_639_1': 'e...|Released|Close your eyes. ...|The Science of Sleep|       False|                 6.8|       253| 3.4402077|\n",
            "|   2.0|    317|   2.0|False|                 NULL|        0|[{'id': 18, 'name...|                NULL| 317|tt0464029|               bs|            Grbavica|A woman and her d...|            0.623465|/hwCA69IOLhT74RrE...|[{'name': 'Coop 9...|[{'iso_3166_1': '...|          2006-03-01|                   0|      90.0|[{'iso_639_1': 'b...|Released|                NULL|Grbavica: The Lan...|       False|                 6.9|        15| 2.8873193|\n",
            "|   2.0|    319|   1.0|False|                 NULL| 12500000|[{'id': 28, 'name...|                NULL| 319|tt0108399|               en|        True Romance|Clarence marries ...|           17.189328|/xBO8R3CZfrJ9rrwr...|[{'name': 'Davis-...|[{'iso_3166_1': '...|          1993-09-09|            12281551|     120.0|[{'iso_639_1': 'e...|Released|Stealing, Cheatin...|        True Romance|       False|                 7.5|       762| 3.8159854|\n",
            "|   2.0|    410|   3.0|False|                 NULL|        0|[{'id': 35, 'name...|http://www.sommer...| 410|tt0477877|               de|  Sommer vorm Balkon|When you read the...|             1.11126|/hJR2yhAMywVwguGr...|[{'name': 'Peter ...|[{'iso_3166_1': '...|          2005-09-09|                   0|     105.0|[{'iso_639_1': 'd...|Released|                NULL|    Summer in Berlin|       False|                 6.7|        12| 2.9268425|\n",
            "|   2.0|    457|   3.0|False| {'id': 456, 'name...|        0|[{'id': 35, 'name...|                NULL| 457|tt0048624|               de|               Sissi|The young Bavaria...|            11.02505|/5keY16YULIgXpXHD...|[{'name': 'Herzog...|[{'iso_3166_1': '...|          1955-12-22|                   0|     102.0|[{'iso_639_1': 'd...|Released|                NULL|               Sissi|       False|                 7.3|       109| 3.7546132|\n",
            "|   2.0|    480|   4.0|False|                 NULL|        0|[{'id': 35, 'name...|                NULL| 480|tt0265343|               hi|     Monsoon Wedding|From an exciting ...|           10.625504|/2LysDwqhK0GlGtQq...|[{'name': 'IFC Fi...|[{'iso_3166_1': '...|          2001-08-30|                   0|     114.0|[{'iso_639_1': 'e...|Released|A stressed father...|     Monsoon Wedding|       False|                 6.8|        59|  3.858757|\n",
            "|   2.0|    508|   4.0|False|                 NULL| 40000000|[{'id': 35, 'name...|http://www.loveac...| 508|tt0314331|               en|       Love Actually|Follows seemingly...|           10.586815|/kfX8Ctin3fSZbdnj...|[{'name': 'Univer...|[{'iso_3166_1': '...|          2003-09-07|           244931766|     135.0|[{'iso_639_1': 'e...|Released|The ultimate roma...|       Love Actually|       False|                 7.0|      1917| 3.8730085|\n",
            "|   2.0|    585|   5.0|False| {'id': 137696, 'n...|115000000|[{'id': 16, 'name...|http://movies.dis...| 585|tt0198781|               en|      Monsters, Inc.|James Sullivan an...|           26.419962|/93Y9BGx8blzmZOPS...|[{'name': 'Walt D...|[{'iso_3166_1': '...|          2001-11-01|           562816256|      92.0|[{'iso_639_1': 'e...|Released|We Scare Because ...|      Monsters, Inc.|       False|                 7.5|      6150| 3.4727664|\n",
            "|   2.0|    587|   3.0|False|                 NULL| 70000000|[{'id': 12, 'name...|                NULL| 587|tt0319061|               en|            Big Fish|Throughout his li...|           14.739983|/6DRFdlNZpAaEt7ee...|[{'name': 'Columb...|[{'iso_3166_1': '...|          2003-12-25|           122919055|     125.0|[{'iso_639_1': 'e...|Released|An adventure as b...|            Big Fish|       False|                 7.6|      2064| 3.3909225|\n",
            "|   2.0|    588|   3.0|False| {'id': 64748, 'na...| 50000000|[{'id': 27, 'name...|http://www.sonypi...| 588|tt0384537|               en|         Silent Hill|The eerie and des...|            7.938457|/4Zz9cF8S4E7DITos...|[{'name': 'Silent...|[{'iso_3166_1': '...|          2006-04-21|            97607453|     125.0|[{'iso_639_1': 'e...|Released|We've been expect...|         Silent Hill|       False|                 6.3|      1093|  3.703496|\n",
            "|   2.0|    661|   4.0|False| {'id': 295862, 'n...|        0|[{'id': 10752, 'n...|                NULL| 661|tt0079095|               de|Die Ehe der Maria...|The Marriage of M...|            2.617272|/umHMlDhZoO0lSd6Y...|[{'name': 'Westde...|[{'iso_3166_1': '...|          1979-02-20|                   0|     116.0|[{'iso_639_1': 'e...|Released|                NULL|The Marriage of M...|       False|                 7.1|        39| 3.3701072|\n",
            "|   3.0|    318|   5.0|False|                 NULL|  8000000|[{'id': 18, 'name...|                NULL| 318|tt0120753|               en|The Million Dolla...|The Million Dolla...|            4.938231|/4wxOzpCjXY2RQgS3...|[{'name': 'Kintop...|[{'iso_3166_1': '...|          2000-02-09|                   0|     122.0|[{'iso_639_1': 'e...|Released|                NULL|The Million Dolla...|       False|                 5.9|        76| 4.0391273|\n",
            "|   3.0|    592|   3.0|False|                 NULL|  1600000|[{'id': 80, 'name...|                NULL| 592|tt0071360|               en|    The Conversation|Surveillance expe...|           13.245638|/un30a9MWgCzMIBpO...|[{'name': 'Paramo...|[{'iso_3166_1': '...|          1974-04-07|             4420000|     113.0|[{'iso_639_1': 'e...|Released|Harry Caul is an ...|    The Conversation|       False|                 7.5|       377| 2.7209988|\n",
            "|   3.0|   1884|   4.0|False| {'id': 133830, 'n...|  3000000|[{'id': 12, 'name...|                NULL|1884|tt0087225|               en|  The Ewok Adventure|The Towani family...|            5.056089|/nBj50ywoyBPHlXXI...|[{'name': 'Lucasf...|[{'iso_3166_1': '...|          1985-02-13|                   0|      96.0|[{'iso_639_1': 'e...|Released|You'll live the a...|  The Ewok Adventure|       False|                 5.9|        46| 3.6224437|\n",
            "|   3.0|   2028|   4.0|False|                 NULL|        0|[{'id': 35, 'name...|                NULL|2028|tt0098258|               en|     Say Anything...|A budding romance...|            6.953646|/oVlRVSZx5IpQCC6u...|[{'name': 'Gracie...|[{'iso_3166_1': '...|          1989-04-14|            20036737|     100.0|[{'iso_639_1': 'e...|Released|To know Lloyd Dob...|     Say Anything...|       False|                 7.2|       244| 3.1868591|\n",
            "|   3.0|   2841|   4.0|False|                 NULL| 47000000|[{'id': 18, 'name...|                NULL|2841|tt0344510|               fr|Un long dimanche ...|\"In 1919, Mathild...| she would know. ...| in the company o...|           10.896295|/jtE7Xrj8KKnhGI3p...|[{'name': 'Gerber...|[{'iso_3166_1': '...|2004-10-26|                   0|   133.0|[{'iso_639_1': 'c...|            Released|Never let go|A Very Long Engag...|     False| 3.5069385|\n",
            "+------+-------+------+-----+---------------------+---------+--------------------+--------------------+----+---------+-----------------+--------------------+--------------------+--------------------+--------------------+--------------------+--------------------+--------------------+--------------------+----------+--------------------+--------+--------------------+--------------------+------------+--------------------+----------+----------+\n",
            "only showing top 20 rows\n",
            "\n"
          ]
        }
      ]
    },
    {
      "cell_type": "code",
      "source": [
        "single_user = test.filter(test['userId']==25).select(['id','userId','title','genres'])\n",
        "single_user.show(truncate = False)"
      ],
      "metadata": {
        "colab": {
          "base_uri": "https://localhost:8080/"
        },
        "id": "vPjptnBb17ei",
        "outputId": "421dae1b-dda1-4673-f949-9ff2742c5bc2"
      },
      "execution_count": null,
      "outputs": [
        {
          "output_type": "stream",
          "name": "stdout",
          "text": [
            "+---+------+----------------+-----------------------------------------------------------------------------------------------+\n",
            "|id |userId|title           |genres                                                                                         |\n",
            "+---+------+----------------+-----------------------------------------------------------------------------------------------+\n",
            "|707|25.0  |A View to a Kill|[{'id': 12, 'name': 'Adventure'}, {'id': 28, 'name': 'Action'}, {'id': 53, 'name': 'Thriller'}]|\n",
            "|802|25.0  |Lolita          |[{'id': 18, 'name': 'Drama'}, {'id': 10749, 'name': 'Romance'}]                                |\n",
            "+---+------+----------------+-----------------------------------------------------------------------------------------------+\n",
            "\n"
          ]
        }
      ]
    },
    {
      "cell_type": "code",
      "source": [
        "recomendations = model.transform(single_user)\n",
        "recomendations.orderBy('prediction',ascending=False).show(truncate = False )"
      ],
      "metadata": {
        "colab": {
          "base_uri": "https://localhost:8080/"
        },
        "id": "hzp_IfZl17oB",
        "outputId": "69e8a44d-cf93-4747-fae4-e7f0fdcbb808"
      },
      "execution_count": null,
      "outputs": [
        {
          "output_type": "stream",
          "name": "stdout",
          "text": [
            "+---+------+----------------+-----------------------------------------------------------------------------------------------+----------+\n",
            "|id |userId|title           |genres                                                                                         |prediction|\n",
            "+---+------+----------------+-----------------------------------------------------------------------------------------------+----------+\n",
            "|802|25.0  |Lolita          |[{'id': 18, 'name': 'Drama'}, {'id': 10749, 'name': 'Romance'}]                                |3.2104833 |\n",
            "|707|25.0  |A View to a Kill|[{'id': 12, 'name': 'Adventure'}, {'id': 28, 'name': 'Action'}, {'id': 53, 'name': 'Thriller'}]|2.9992335 |\n",
            "+---+------+----------------+-----------------------------------------------------------------------------------------------+----------+\n",
            "\n"
          ]
        }
      ]
    },
    {
      "cell_type": "code",
      "source": [],
      "metadata": {
        "id": "Lj1mJb-m2ErQ"
      },
      "execution_count": null,
      "outputs": []
    }
  ]
}